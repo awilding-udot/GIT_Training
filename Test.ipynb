{
 "cells": [
  {
   "cell_type": "code",
   "execution_count": null,
   "metadata": {},
   "outputs": [],
   "source": [
    "\"\"\"\n",
    "First Time User Steps: \n",
    "Update CSV locations in the import data section\n",
    "Update the CSV export year in the global variables section\n",
    "Update the CSV export location in the final table export section\n",
    "Update the GDB location in the GIS TAZ Export section\n",
    "\n",
    "This is a development version of the code, and is still under review for export stability. \n",
    "\n",
    "Developed by Fehr & Peers - Katelynn Hall, Gaby Picado-Aguilar, and Kevin Zamzow Pollock\n",
    "\"\"\""
   ]
  },
  {
   "cell_type": "code",
   "execution_count": null,
   "metadata": {},
   "outputs": [],
   "source": [
    "import pandas as pd\n",
    "import numpy as np\n",
    "from arcgis.features import GeoAccessor, GeoSeriesAccessor"
   ]
  },
  {
   "cell_type": "code",
   "execution_count": null,
   "metadata": {},
   "outputs": [],
   "source": [
    "# Data used in By_Res analysis\n",
    "Census = pd.read_csv(r\"C:\\Users\\awilding\\Documents\\SE_Python_Process\\AW_Work\\Inputs\\Census_HH_Pop.csv\") \n",
    "CountyControlTotals = pd.read_csv(r\"C:\\Users\\awilding\\Documents\\SE_Python_Process\\AW_Work\\Inputs\\County_ConTot.csv\")\n",
    "SubCountyControlTotals = pd.read_csv(r\"C:\\Users\\awilding\\Documents\\SE_Python_Process\\AW_Work\\Inputs\\SubCo_ConTot.csv\")\n",
    "\n",
    "# Data used in By_Emp\n",
    "AllDWSData = pd.read_csv(r\"C:\\Users\\awilding\\Documents\\SE_Python_Process\\AW_Work\\Inputs\\BaseYear_Emp_DWS_PostProcessed.csv\")\n",
    "\n",
    "# Data used in HH Analysis\n",
    "Seeds = pd.read_csv(r\"C:\\Users\\awilding\\Documents\\SE_Python_Process\\AW_Work\\Inputs\\HHSeeds_Expanded.csv\")\n",
    "Seeds.columns = 'Seeds' + Seeds.columns\n",
    "GrowthCurves = pd.read_csv(r\"C:\\Users\\awilding\\Documents\\SE_Python_Process\\AW_Work\\Inputs\\GrowthCurves.csv\")\n",
    "BaseYearPop = pd.read_csv(r\"C:\\Users\\awilding\\Documents\\SE_Python_Process\\AW_Work\\Inputs\\BaseYearPop.csv\")\n",
    "Dev_Data = pd.read_csv(r\"C:\\Users\\awilding\\Documents\\SE_Python_Process\\AW_Work\\Inputs\\Dev_Data.csv\")\n",
    "HandAdjustedCapacity = pd.read_csv(r\"C:\\Users\\awilding\\Documents\\SE_Python_Process\\AW_Work\\Inputs\\HandAdjustedCapacity.csv\")\n",
    "HandAdjustedCapacity.columns = 'HandAdjustedCap_'+HandAdjustedCapacity.columns\n",
    "AreaGrowthWeightFactor = pd.read_csv(r\"C:\\Users\\awilding\\Documents\\SE_Python_Process\\AW_Work\\Inputs\\AreaGrowthWeightFactor.csv\")\n",
    "AreaGrowthWeightFactor.columns = 'AGWF_'+AreaGrowthWeightFactor.columns\n",
    "\n",
    "# Data used in Emp Analysis\n",
    "EmpSeeds = pd.read_csv(r\"C:\\Users\\awilding\\Documents\\SE_Python_Process\\AW_Work\\Inputs\\EmpSeeds.csv\")\n",
    "EmpSeeds.columns = 'EmpSeeds' + EmpSeeds.columns\n",
    "EmpHandAdjustedCapacity = pd.read_csv(r\"C:\\Users\\awilding\\Documents\\SE_Python_Process\\AW_Work\\Inputs\\EmpHandAdjustedCapacity.csv\")\n",
    "EmpHandAdjustedCapacity.columns = 'EmpHandAdjustedCap_'+EmpHandAdjustedCapacity.columns\n",
    "EmpAreaGrowthWeightFactor = pd.read_csv(r\"C:\\Users\\awilding\\Documents\\SE_Python_Process\\AW_Work\\Inputs\\EmpAreaGrowthWeightFactor.csv\")\n",
    "EmpAreaGrowthWeightFactor.columns = 'EmpAGWF_'+EmpAreaGrowthWeightFactor.columns\n",
    "\n",
    "#Second Homes Data\n",
    "SecondHomesOther = pd.read_csv(r\"C:\\Users\\awilding\\Documents\\SE_Python_Process\\AW_Work\\Inputs\\SecondHome_notCabCondoHotel.csv\")\n",
    "SecondHomesOther.columns = 'SecHomesOther_'+SecondHomesOther.columns\n",
    "SecondHomesCabin = pd.read_csv(r\"C:\\Users\\awilding\\Documents\\SE_Python_Process\\AW_Work\\Inputs\\SecondHomesCabin.csv\")\n",
    "SecondHomesCabin.columns = 'SecHomesCabin_'+SecondHomesCabin.columns\n",
    "SecondHomesCondo = pd.read_csv(r\"C:\\Users\\awilding\\Documents\\SE_Python_Process\\AW_Work\\Inputs\\SecondHomesCondo.csv\")\n",
    "SecondHomesCondo.columns = 'SecHomesCondo_'+SecondHomesCondo.columns\n",
    "SecondHomesHotel = pd.read_csv(r\"C:\\Users\\awilding\\Documents\\SE_Python_Process\\AW_Work\\Inputs\\SecondHomesHotel.csv\")\n",
    "SecondHomesHotel.columns = 'SecHomesHotel_'+SecondHomesHotel.columns\n",
    "\n",
    "\n",
    "#Other\n",
    "Enrollment = pd.read_csv(r\"C:\\Users\\awilding\\Documents\\SE_Python_Process\\AW_Work\\Inputs\\K12Enrollment.csv\")\n",
    "MedianIncome = pd.read_csv(r\"C:\\Users\\awilding\\Documents\\SE_Python_Process\\AW_Work\\Inputs\\MedianInc.csv\")\n",
    "# Shapefiles\n",
    "sedf_taz = pd.DataFrame.spatial.from_featureclass(r\"C:\\Users\\awilding\\Documents\\SE_Python_Process\\AW_Work\\Inputs\\Shapes\\TAZs.shp\")\n",
    "#print(sedf_taz.columns)"
   ]
  }
 ],
 "metadata": {
  "language_info": {
   "name": "python"
  }
 },
 "nbformat": 4,
 "nbformat_minor": 2
}
