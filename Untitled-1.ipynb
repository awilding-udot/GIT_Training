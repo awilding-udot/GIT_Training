{
 "cells": [
  {
   "cell_type": "code",
   "execution_count": null,
   "metadata": {},
   "outputs": [],
   "source": [
    "\"\"\"\n",
    "First Time User Steps: \n",
    "Update CSV locations in the import data section\n",
    "Update the CSV export year in the global variables section\n",
    "Update the CSV export location in the final table export section\n",
    "Update the GDB location in the GIS TAZ Export section\n",
    "\n",
    "This is a development version of the code, and is still under review for export stability. \n",
    "\n",
    "Developed by Fehr & Peers - Katelynn Hall, Gaby Picado-Aguilar, and Kevin Zamzow Pollock\n",
    "\"\"\""
   ]
  }
 ],
 "metadata": {
  "language_info": {
   "name": "python"
  }
 },
 "nbformat": 4,
 "nbformat_minor": 2
}
